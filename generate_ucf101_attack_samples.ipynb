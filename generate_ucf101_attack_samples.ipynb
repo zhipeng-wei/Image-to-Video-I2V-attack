{
 "cells": [
  {
   "cell_type": "code",
   "execution_count": 3,
   "metadata": {},
   "outputs": [],
   "source": [
    "import pandas as pd\n",
    "import os"
   ]
  },
  {
   "cell_type": "markdown",
   "metadata": {},
   "source": [
    "### Results from /home/zhipeng/model_train/infer.py"
   ]
  },
  {
   "cell_type": "code",
   "execution_count": 13,
   "metadata": {},
   "outputs": [],
   "source": [
    "path = '/DATACENTER/zhipeng/UCF101/all_model_prediction'"
   ]
  },
  {
   "cell_type": "code",
   "execution_count": 14,
   "metadata": {},
   "outputs": [],
   "source": [
    "models = [i for i in os.listdir(path) if 'pre' in i]"
   ]
  },
  {
   "cell_type": "code",
   "execution_count": 18,
   "metadata": {},
   "outputs": [
    {
     "data": {
      "text/plain": [
       "['i3d_resnet50_prediction.csv',\n",
       " 'slowfast_resnet50_prediction.csv',\n",
       " 'tpn_resnet50_prediction.csv',\n",
       " 'i3d_resnet101_prediction.csv',\n",
       " 'slowfast_resnet101_prediction.csv',\n",
       " 'tpn_resnet101_prediction.csv']"
      ]
     },
     "execution_count": 18,
     "metadata": {},
     "output_type": "execute_result"
    }
   ],
   "source": [
    "models.split"
   ]
  },
  {
   "cell_type": "code",
   "execution_count": 19,
   "metadata": {},
   "outputs": [],
   "source": [
    "all_df = None\n",
    "names = []\n",
    "for model in models:\n",
    "    name = '_'.join(model.split('_')[0:2])\n",
    "    used_path = os.path.join(path, model)\n",
    "    df = pd.read_csv(used_path)\n",
    "    df.columns = ['{}_pre'.format(name), '{}_gt'.format(name)]\n",
    "    if all_df is None:\n",
    "        all_df = df\n",
    "    else:\n",
    "        all_df = pd.concat([all_df, df], axis=1)\n",
    "    names.append(name)"
   ]
  },
  {
   "cell_type": "code",
   "execution_count": 20,
   "metadata": {},
   "outputs": [
    {
     "data": {
      "text/plain": [
       "['i3d_resnet50',\n",
       " 'slowfast_resnet50',\n",
       " 'tpn_resnet50',\n",
       " 'i3d_resnet101',\n",
       " 'slowfast_resnet101',\n",
       " 'tpn_resnet101']"
      ]
     },
     "execution_count": 20,
     "metadata": {},
     "output_type": "execute_result"
    }
   ],
   "source": [
    "names"
   ]
  },
  {
   "cell_type": "code",
   "execution_count": 21,
   "metadata": {},
   "outputs": [],
   "source": [
    "for name in names:\n",
    "    all_df = all_df[all_df['{}_pre'.format(name)] == all_df['{}_gt'.format(name)]]"
   ]
  },
  {
   "cell_type": "code",
   "execution_count": 23,
   "metadata": {},
   "outputs": [
    {
     "data": {
      "text/html": [
       "<div>\n",
       "<style scoped>\n",
       "    .dataframe tbody tr th:only-of-type {\n",
       "        vertical-align: middle;\n",
       "    }\n",
       "\n",
       "    .dataframe tbody tr th {\n",
       "        vertical-align: top;\n",
       "    }\n",
       "\n",
       "    .dataframe thead th {\n",
       "        text-align: right;\n",
       "    }\n",
       "</style>\n",
       "<table border=\"1\" class=\"dataframe\">\n",
       "  <thead>\n",
       "    <tr style=\"text-align: right;\">\n",
       "      <th></th>\n",
       "      <th>i3d_resnet50_pre</th>\n",
       "      <th>i3d_resnet50_gt</th>\n",
       "      <th>slowfast_resnet50_pre</th>\n",
       "      <th>slowfast_resnet50_gt</th>\n",
       "      <th>tpn_resnet50_pre</th>\n",
       "      <th>tpn_resnet50_gt</th>\n",
       "      <th>i3d_resnet101_pre</th>\n",
       "      <th>i3d_resnet101_gt</th>\n",
       "      <th>slowfast_resnet101_pre</th>\n",
       "      <th>slowfast_resnet101_gt</th>\n",
       "      <th>tpn_resnet101_pre</th>\n",
       "      <th>tpn_resnet101_gt</th>\n",
       "    </tr>\n",
       "  </thead>\n",
       "  <tbody>\n",
       "    <tr>\n",
       "      <th>28</th>\n",
       "      <td>0</td>\n",
       "      <td>0</td>\n",
       "      <td>0</td>\n",
       "      <td>0</td>\n",
       "      <td>0</td>\n",
       "      <td>0</td>\n",
       "      <td>0</td>\n",
       "      <td>0</td>\n",
       "      <td>0</td>\n",
       "      <td>0</td>\n",
       "      <td>0</td>\n",
       "      <td>0</td>\n",
       "    </tr>\n",
       "    <tr>\n",
       "      <th>53</th>\n",
       "      <td>1</td>\n",
       "      <td>1</td>\n",
       "      <td>1</td>\n",
       "      <td>1</td>\n",
       "      <td>1</td>\n",
       "      <td>1</td>\n",
       "      <td>1</td>\n",
       "      <td>1</td>\n",
       "      <td>1</td>\n",
       "      <td>1</td>\n",
       "      <td>1</td>\n",
       "      <td>1</td>\n",
       "    </tr>\n",
       "    <tr>\n",
       "      <th>96</th>\n",
       "      <td>2</td>\n",
       "      <td>2</td>\n",
       "      <td>2</td>\n",
       "      <td>2</td>\n",
       "      <td>2</td>\n",
       "      <td>2</td>\n",
       "      <td>2</td>\n",
       "      <td>2</td>\n",
       "      <td>2</td>\n",
       "      <td>2</td>\n",
       "      <td>2</td>\n",
       "      <td>2</td>\n",
       "    </tr>\n",
       "    <tr>\n",
       "      <th>121</th>\n",
       "      <td>3</td>\n",
       "      <td>3</td>\n",
       "      <td>3</td>\n",
       "      <td>3</td>\n",
       "      <td>3</td>\n",
       "      <td>3</td>\n",
       "      <td>3</td>\n",
       "      <td>3</td>\n",
       "      <td>3</td>\n",
       "      <td>3</td>\n",
       "      <td>3</td>\n",
       "      <td>3</td>\n",
       "    </tr>\n",
       "    <tr>\n",
       "      <th>182</th>\n",
       "      <td>4</td>\n",
       "      <td>4</td>\n",
       "      <td>4</td>\n",
       "      <td>4</td>\n",
       "      <td>4</td>\n",
       "      <td>4</td>\n",
       "      <td>4</td>\n",
       "      <td>4</td>\n",
       "      <td>4</td>\n",
       "      <td>4</td>\n",
       "      <td>4</td>\n",
       "      <td>4</td>\n",
       "    </tr>\n",
       "    <tr>\n",
       "      <th>...</th>\n",
       "      <td>...</td>\n",
       "      <td>...</td>\n",
       "      <td>...</td>\n",
       "      <td>...</td>\n",
       "      <td>...</td>\n",
       "      <td>...</td>\n",
       "      <td>...</td>\n",
       "      <td>...</td>\n",
       "      <td>...</td>\n",
       "      <td>...</td>\n",
       "      <td>...</td>\n",
       "      <td>...</td>\n",
       "    </tr>\n",
       "    <tr>\n",
       "      <th>3617</th>\n",
       "      <td>96</td>\n",
       "      <td>96</td>\n",
       "      <td>96</td>\n",
       "      <td>96</td>\n",
       "      <td>96</td>\n",
       "      <td>96</td>\n",
       "      <td>96</td>\n",
       "      <td>96</td>\n",
       "      <td>96</td>\n",
       "      <td>96</td>\n",
       "      <td>96</td>\n",
       "      <td>96</td>\n",
       "    </tr>\n",
       "    <tr>\n",
       "      <th>3662</th>\n",
       "      <td>97</td>\n",
       "      <td>97</td>\n",
       "      <td>97</td>\n",
       "      <td>97</td>\n",
       "      <td>97</td>\n",
       "      <td>97</td>\n",
       "      <td>97</td>\n",
       "      <td>97</td>\n",
       "      <td>97</td>\n",
       "      <td>97</td>\n",
       "      <td>97</td>\n",
       "      <td>97</td>\n",
       "    </tr>\n",
       "    <tr>\n",
       "      <th>3678</th>\n",
       "      <td>98</td>\n",
       "      <td>98</td>\n",
       "      <td>98</td>\n",
       "      <td>98</td>\n",
       "      <td>98</td>\n",
       "      <td>98</td>\n",
       "      <td>98</td>\n",
       "      <td>98</td>\n",
       "      <td>98</td>\n",
       "      <td>98</td>\n",
       "      <td>98</td>\n",
       "      <td>98</td>\n",
       "    </tr>\n",
       "    <tr>\n",
       "      <th>3707</th>\n",
       "      <td>99</td>\n",
       "      <td>99</td>\n",
       "      <td>99</td>\n",
       "      <td>99</td>\n",
       "      <td>99</td>\n",
       "      <td>99</td>\n",
       "      <td>99</td>\n",
       "      <td>99</td>\n",
       "      <td>99</td>\n",
       "      <td>99</td>\n",
       "      <td>99</td>\n",
       "      <td>99</td>\n",
       "    </tr>\n",
       "    <tr>\n",
       "      <th>3781</th>\n",
       "      <td>100</td>\n",
       "      <td>100</td>\n",
       "      <td>100</td>\n",
       "      <td>100</td>\n",
       "      <td>100</td>\n",
       "      <td>100</td>\n",
       "      <td>100</td>\n",
       "      <td>100</td>\n",
       "      <td>100</td>\n",
       "      <td>100</td>\n",
       "      <td>100</td>\n",
       "      <td>100</td>\n",
       "    </tr>\n",
       "  </tbody>\n",
       "</table>\n",
       "<p>101 rows × 12 columns</p>\n",
       "</div>"
      ],
      "text/plain": [
       "      i3d_resnet50_pre  i3d_resnet50_gt  slowfast_resnet50_pre  \\\n",
       "28                   0                0                      0   \n",
       "53                   1                1                      1   \n",
       "96                   2                2                      2   \n",
       "121                  3                3                      3   \n",
       "182                  4                4                      4   \n",
       "...                ...              ...                    ...   \n",
       "3617                96               96                     96   \n",
       "3662                97               97                     97   \n",
       "3678                98               98                     98   \n",
       "3707                99               99                     99   \n",
       "3781               100              100                    100   \n",
       "\n",
       "      slowfast_resnet50_gt  tpn_resnet50_pre  tpn_resnet50_gt  \\\n",
       "28                       0                 0                0   \n",
       "53                       1                 1                1   \n",
       "96                       2                 2                2   \n",
       "121                      3                 3                3   \n",
       "182                      4                 4                4   \n",
       "...                    ...               ...              ...   \n",
       "3617                    96                96               96   \n",
       "3662                    97                97               97   \n",
       "3678                    98                98               98   \n",
       "3707                    99                99               99   \n",
       "3781                   100               100              100   \n",
       "\n",
       "      i3d_resnet101_pre  i3d_resnet101_gt  slowfast_resnet101_pre  \\\n",
       "28                    0                 0                       0   \n",
       "53                    1                 1                       1   \n",
       "96                    2                 2                       2   \n",
       "121                   3                 3                       3   \n",
       "182                   4                 4                       4   \n",
       "...                 ...               ...                     ...   \n",
       "3617                 96                96                      96   \n",
       "3662                 97                97                      97   \n",
       "3678                 98                98                      98   \n",
       "3707                 99                99                      99   \n",
       "3781                100               100                     100   \n",
       "\n",
       "      slowfast_resnet101_gt  tpn_resnet101_pre  tpn_resnet101_gt  \n",
       "28                        0                  0                 0  \n",
       "53                        1                  1                 1  \n",
       "96                        2                  2                 2  \n",
       "121                       3                  3                 3  \n",
       "182                       4                  4                 4  \n",
       "...                     ...                ...               ...  \n",
       "3617                     96                 96                96  \n",
       "3662                     97                 97                97  \n",
       "3678                     98                 98                98  \n",
       "3707                     99                 99                99  \n",
       "3781                    100                100               100  \n",
       "\n",
       "[101 rows x 12 columns]"
      ]
     },
     "execution_count": 23,
     "metadata": {},
     "output_type": "execute_result"
    }
   ],
   "source": [
    "all_df.groupby('i3d_resnet101_gt').sample(n=1, random_state=10)"
   ]
  },
  {
   "cell_type": "code",
   "execution_count": 25,
   "metadata": {},
   "outputs": [],
   "source": [
    "used_attack_video = all_df.groupby('i3d_resnet101_gt').sample(n=1, random_state=10)"
   ]
  },
  {
   "cell_type": "code",
   "execution_count": 26,
   "metadata": {},
   "outputs": [],
   "source": [
    "used_ids = used_attack_video.index.values.tolist()"
   ]
  },
  {
   "cell_type": "code",
   "execution_count": 27,
   "metadata": {},
   "outputs": [],
   "source": [
    "import pickle as pkl"
   ]
  },
  {
   "cell_type": "code",
   "execution_count": 10,
   "metadata": {},
   "outputs": [
    {
     "ename": "NameError",
     "evalue": "name 'pkl' is not defined",
     "output_type": "error",
     "traceback": [
      "\u001b[0;31m---------------------------------------------------------------------------\u001b[0m",
      "\u001b[0;31mNameError\u001b[0m                                 Traceback (most recent call last)",
      "\u001b[0;32m/tmp/ipykernel_221556/3150825080.py\u001b[0m in \u001b[0;36m<module>\u001b[0;34m\u001b[0m\n\u001b[1;32m      1\u001b[0m \u001b[0;32mwith\u001b[0m \u001b[0mopen\u001b[0m\u001b[0;34m(\u001b[0m\u001b[0;34m'/DATACENTER/zhipeng/UCF101/all_model_prediction/used_idxs.pkl'\u001b[0m\u001b[0;34m,\u001b[0m \u001b[0;34m'wb'\u001b[0m\u001b[0;34m)\u001b[0m \u001b[0;32mas\u001b[0m \u001b[0mopt\u001b[0m\u001b[0;34m:\u001b[0m\u001b[0;34m\u001b[0m\u001b[0;34m\u001b[0m\u001b[0m\n\u001b[0;32m----> 2\u001b[0;31m     \u001b[0mpkl\u001b[0m\u001b[0;34m.\u001b[0m\u001b[0mdump\u001b[0m\u001b[0;34m(\u001b[0m\u001b[0mused_ids\u001b[0m\u001b[0;34m,\u001b[0m \u001b[0mopt\u001b[0m\u001b[0;34m)\u001b[0m\u001b[0;34m\u001b[0m\u001b[0;34m\u001b[0m\u001b[0m\n\u001b[0m",
      "\u001b[0;31mNameError\u001b[0m: name 'pkl' is not defined"
     ]
    }
   ],
   "source": [
    "with open('/DATACENTER/zhipeng/UCF101/all_model_prediction/used_idxs.pkl', 'wb') as opt:\n",
    "    pkl.dump(used_ids, opt)"
   ]
  },
  {
   "cell_type": "code",
   "execution_count": 17,
   "metadata": {},
   "outputs": [],
   "source": [
    "setting='./test01_setting.txt'\n",
    "\n",
    "file =  open(\"ddddd.txt\",\"w\")\n",
    "with open(setting) as split_f:\n",
    "    data = split_f.readlines()\n",
    "    for line in data:\n",
    "        line_info = line.split()\n",
    "        path = line_info[0]\n",
    "        path = '/'.join(path.split('/')[-2:])\n",
    "        content = ' '.join([path, line_info[1], line_info[2]])\n",
    "        file.write(content+'\\n')\n",
    "file.close()"
   ]
  },
  {
   "cell_type": "code",
   "execution_count": 15,
   "metadata": {},
   "outputs": [
    {
     "data": {
      "text/plain": [
       "'YoYo/v_YoYo_g07_c04 200 100'"
      ]
     },
     "execution_count": 15,
     "metadata": {},
     "output_type": "execute_result"
    }
   ],
   "source": [
    "content"
   ]
  },
  {
   "cell_type": "code",
   "execution_count": 16,
   "metadata": {},
   "outputs": [
    {
     "data": {
      "text/plain": [
       "'/DATACENTER/zhipeng/UCF101/UCF101-jpg/YoYo/v_YoYo_g07_c04 200 100\\n'"
      ]
     },
     "execution_count": 16,
     "metadata": {},
     "output_type": "execute_result"
    }
   ],
   "source": [
    "data[-1]"
   ]
  },
  {
   "cell_type": "code",
   "execution_count": 14,
   "metadata": {},
   "outputs": [
    {
     "data": {
      "text/plain": [
       "['/DATACENTER/zhipeng/UCF101/UCF101-jpg/YoYo/v_YoYo_g07_c04', '200', '100']"
      ]
     },
     "execution_count": 14,
     "metadata": {},
     "output_type": "execute_result"
    }
   ],
   "source": [
    "data[-1].split()"
   ]
  },
  {
   "cell_type": "code",
   "execution_count": 6,
   "metadata": {},
   "outputs": [
    {
     "data": {
      "text/plain": [
       "'/DATACENTER/zhipeng/UCF101/UCF101-jpg/YoYo/v_YoYo_g07_c04'"
      ]
     },
     "execution_count": 6,
     "metadata": {},
     "output_type": "execute_result"
    }
   ],
   "source": [
    "path"
   ]
  },
  {
   "cell_type": "code",
   "execution_count": null,
   "metadata": {},
   "outputs": [],
   "source": []
  }
 ],
 "metadata": {
  "kernelspec": {
   "display_name": "Python 3 (ipykernel)",
   "language": "python",
   "name": "python3"
  },
  "language_info": {
   "codemirror_mode": {
    "name": "ipython",
    "version": 3
   },
   "file_extension": ".py",
   "mimetype": "text/x-python",
   "name": "python",
   "nbconvert_exporter": "python",
   "pygments_lexer": "ipython3",
   "version": "3.7.11"
  }
 },
 "nbformat": 4,
 "nbformat_minor": 4
}
